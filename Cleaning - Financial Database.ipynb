{
  "cells": [
    {
      "cell_type": "markdown",
      "metadata": {
        "id": "klsC1XleOnvm"
      },
      "source": [
        "===================================================================\n",
        "\n",
        "Graded Challenge 2\n",
        "\n",
        "Nama  : Iznia Azyati\n",
        "\n",
        "Batch : RMT-032\n",
        "\n",
        "Program ini dibuat untuk membantu divisi Finance membuat database.\n",
        "Program ini dilakukan dengan konsep Relational Database dan Pandas.\n",
        "\n",
        "==================================================================="
      ]
    },
    {
      "cell_type": "markdown",
      "metadata": {
        "id": "VONXxVp-Cq_J"
      },
      "source": [
        "## Data Exploration\n",
        "\n",
        "A. Load File Data"
      ]
    },
    {
      "cell_type": "code",
      "execution_count": 34,
      "metadata": {
        "id": "ji5NAroTOv_L"
      },
      "outputs": [],
      "source": [
        "import pandas as pd"
      ]
    },
    {
      "cell_type": "code",
      "execution_count": 35,
      "metadata": {
        "colab": {
          "base_uri": "https://localhost:8080/",
          "height": 530
        },
        "id": "BCFE7uRzXPkj",
        "outputId": "d48da87f-5ef8-4cae-e0dc-0cda55340804"
      },
      "outputs": [
        {
          "data": {
            "text/html": [
              "<div>\n",
              "<style scoped>\n",
              "    .dataframe tbody tr th:only-of-type {\n",
              "        vertical-align: middle;\n",
              "    }\n",
              "\n",
              "    .dataframe tbody tr th {\n",
              "        vertical-align: top;\n",
              "    }\n",
              "\n",
              "    .dataframe thead th {\n",
              "        text-align: right;\n",
              "    }\n",
              "</style>\n",
              "<table border=\"1\" class=\"dataframe\">\n",
              "  <thead>\n",
              "    <tr style=\"text-align: right;\">\n",
              "      <th></th>\n",
              "      <th>Segment</th>\n",
              "      <th>Country</th>\n",
              "      <th>Product</th>\n",
              "      <th>Discount Band</th>\n",
              "      <th>Units Sold</th>\n",
              "      <th>Manufacturing Price</th>\n",
              "      <th>Sale Price</th>\n",
              "      <th>Gross Sales</th>\n",
              "      <th>Discounts</th>\n",
              "      <th>Sales</th>\n",
              "      <th>COGS</th>\n",
              "      <th>Profit</th>\n",
              "      <th>Date</th>\n",
              "      <th>Month Number</th>\n",
              "      <th>Month Name</th>\n",
              "      <th>Year</th>\n",
              "    </tr>\n",
              "  </thead>\n",
              "  <tbody>\n",
              "    <tr>\n",
              "      <th>0</th>\n",
              "      <td>Government</td>\n",
              "      <td>Canada</td>\n",
              "      <td>Carretera</td>\n",
              "      <td>None</td>\n",
              "      <td>$1,618.50</td>\n",
              "      <td>$3.00</td>\n",
              "      <td>$20.00</td>\n",
              "      <td>$32,370.00</td>\n",
              "      <td>$-</td>\n",
              "      <td>$32,370.00</td>\n",
              "      <td>$16,185.00</td>\n",
              "      <td>$16,185.00</td>\n",
              "      <td>01/01/2014</td>\n",
              "      <td>1</td>\n",
              "      <td>January</td>\n",
              "      <td>2014</td>\n",
              "    </tr>\n",
              "    <tr>\n",
              "      <th>1</th>\n",
              "      <td>Government</td>\n",
              "      <td>Germany</td>\n",
              "      <td>Carretera</td>\n",
              "      <td>None</td>\n",
              "      <td>$1,321.00</td>\n",
              "      <td>$3.00</td>\n",
              "      <td>$20.00</td>\n",
              "      <td>$26,420.00</td>\n",
              "      <td>$-</td>\n",
              "      <td>$26,420.00</td>\n",
              "      <td>$13,210.00</td>\n",
              "      <td>$13,210.00</td>\n",
              "      <td>01/01/2014</td>\n",
              "      <td>1</td>\n",
              "      <td>January</td>\n",
              "      <td>2014</td>\n",
              "    </tr>\n",
              "    <tr>\n",
              "      <th>2</th>\n",
              "      <td>Midmarket</td>\n",
              "      <td>France</td>\n",
              "      <td>Carretera</td>\n",
              "      <td>None</td>\n",
              "      <td>$2,178.00</td>\n",
              "      <td>$3.00</td>\n",
              "      <td>$15.00</td>\n",
              "      <td>$32,670.00</td>\n",
              "      <td>$-</td>\n",
              "      <td>$32,670.00</td>\n",
              "      <td>$21,780.00</td>\n",
              "      <td>$10,890.00</td>\n",
              "      <td>01/06/2014</td>\n",
              "      <td>6</td>\n",
              "      <td>June</td>\n",
              "      <td>2014</td>\n",
              "    </tr>\n",
              "    <tr>\n",
              "      <th>3</th>\n",
              "      <td>Midmarket</td>\n",
              "      <td>Germany</td>\n",
              "      <td>Carretera</td>\n",
              "      <td>None</td>\n",
              "      <td>$888.00</td>\n",
              "      <td>$3.00</td>\n",
              "      <td>$15.00</td>\n",
              "      <td>$13,320.00</td>\n",
              "      <td>$-</td>\n",
              "      <td>$13,320.00</td>\n",
              "      <td>$8,880.00</td>\n",
              "      <td>$4,440.00</td>\n",
              "      <td>01/06/2014</td>\n",
              "      <td>6</td>\n",
              "      <td>June</td>\n",
              "      <td>2014</td>\n",
              "    </tr>\n",
              "    <tr>\n",
              "      <th>4</th>\n",
              "      <td>Midmarket</td>\n",
              "      <td>Mexico</td>\n",
              "      <td>Carretera</td>\n",
              "      <td>None</td>\n",
              "      <td>$2,470.00</td>\n",
              "      <td>$3.00</td>\n",
              "      <td>$15.00</td>\n",
              "      <td>$37,050.00</td>\n",
              "      <td>$-</td>\n",
              "      <td>$37,050.00</td>\n",
              "      <td>$24,700.00</td>\n",
              "      <td>$12,350.00</td>\n",
              "      <td>01/06/2014</td>\n",
              "      <td>6</td>\n",
              "      <td>June</td>\n",
              "      <td>2014</td>\n",
              "    </tr>\n",
              "    <tr>\n",
              "      <th>...</th>\n",
              "      <td>...</td>\n",
              "      <td>...</td>\n",
              "      <td>...</td>\n",
              "      <td>...</td>\n",
              "      <td>...</td>\n",
              "      <td>...</td>\n",
              "      <td>...</td>\n",
              "      <td>...</td>\n",
              "      <td>...</td>\n",
              "      <td>...</td>\n",
              "      <td>...</td>\n",
              "      <td>...</td>\n",
              "      <td>...</td>\n",
              "      <td>...</td>\n",
              "      <td>...</td>\n",
              "      <td>...</td>\n",
              "    </tr>\n",
              "    <tr>\n",
              "      <th>695</th>\n",
              "      <td>Small Business</td>\n",
              "      <td>France</td>\n",
              "      <td>Amarilla</td>\n",
              "      <td>High</td>\n",
              "      <td>$2,475.00</td>\n",
              "      <td>$260.00</td>\n",
              "      <td>$300.00</td>\n",
              "      <td>$7,42,500.00</td>\n",
              "      <td>$1,11,375.00</td>\n",
              "      <td>$6,31,125.00</td>\n",
              "      <td>$6,18,750.00</td>\n",
              "      <td>$12,375.00</td>\n",
              "      <td>01/03/2014</td>\n",
              "      <td>3</td>\n",
              "      <td>March</td>\n",
              "      <td>2014</td>\n",
              "    </tr>\n",
              "    <tr>\n",
              "      <th>696</th>\n",
              "      <td>Small Business</td>\n",
              "      <td>Mexico</td>\n",
              "      <td>Amarilla</td>\n",
              "      <td>High</td>\n",
              "      <td>$546.00</td>\n",
              "      <td>$260.00</td>\n",
              "      <td>$300.00</td>\n",
              "      <td>$1,63,800.00</td>\n",
              "      <td>$24,570.00</td>\n",
              "      <td>$1,39,230.00</td>\n",
              "      <td>$1,36,500.00</td>\n",
              "      <td>$2,730.00</td>\n",
              "      <td>01/10/2014</td>\n",
              "      <td>10</td>\n",
              "      <td>October</td>\n",
              "      <td>2014</td>\n",
              "    </tr>\n",
              "    <tr>\n",
              "      <th>697</th>\n",
              "      <td>Government</td>\n",
              "      <td>Mexico</td>\n",
              "      <td>Montana</td>\n",
              "      <td>High</td>\n",
              "      <td>$1,368.00</td>\n",
              "      <td>$5.00</td>\n",
              "      <td>$7.00</td>\n",
              "      <td>$9,576.00</td>\n",
              "      <td>$1,436.40</td>\n",
              "      <td>$8,139.60</td>\n",
              "      <td>$6,840.00</td>\n",
              "      <td>$1,299.60</td>\n",
              "      <td>01/02/2014</td>\n",
              "      <td>2</td>\n",
              "      <td>February</td>\n",
              "      <td>2014</td>\n",
              "    </tr>\n",
              "    <tr>\n",
              "      <th>698</th>\n",
              "      <td>Government</td>\n",
              "      <td>Canada</td>\n",
              "      <td>Paseo</td>\n",
              "      <td>High</td>\n",
              "      <td>$723.00</td>\n",
              "      <td>$10.00</td>\n",
              "      <td>$7.00</td>\n",
              "      <td>$5,061.00</td>\n",
              "      <td>$759.15</td>\n",
              "      <td>$4,301.85</td>\n",
              "      <td>$3,615.00</td>\n",
              "      <td>$686.85</td>\n",
              "      <td>01/04/2014</td>\n",
              "      <td>4</td>\n",
              "      <td>April</td>\n",
              "      <td>2014</td>\n",
              "    </tr>\n",
              "    <tr>\n",
              "      <th>699</th>\n",
              "      <td>Channel Partners</td>\n",
              "      <td>United States of America</td>\n",
              "      <td>VTT</td>\n",
              "      <td>High</td>\n",
              "      <td>$1,806.00</td>\n",
              "      <td>$250.00</td>\n",
              "      <td>$12.00</td>\n",
              "      <td>$21,672.00</td>\n",
              "      <td>$3,250.80</td>\n",
              "      <td>$18,421.20</td>\n",
              "      <td>$5,418.00</td>\n",
              "      <td>$13,003.20</td>\n",
              "      <td>01/05/2014</td>\n",
              "      <td>5</td>\n",
              "      <td>May</td>\n",
              "      <td>2014</td>\n",
              "    </tr>\n",
              "  </tbody>\n",
              "</table>\n",
              "<p>700 rows × 16 columns</p>\n",
              "</div>"
            ],
            "text/plain": [
              "              Segment                   Country     Product   Discount Band   \\\n",
              "0          Government                    Canada   Carretera            None    \n",
              "1          Government                   Germany   Carretera            None    \n",
              "2           Midmarket                    France   Carretera            None    \n",
              "3           Midmarket                   Germany   Carretera            None    \n",
              "4           Midmarket                    Mexico   Carretera            None    \n",
              "..                ...                       ...          ...             ...   \n",
              "695    Small Business                    France    Amarilla            High    \n",
              "696    Small Business                    Mexico    Amarilla            High    \n",
              "697        Government                    Mexico     Montana            High    \n",
              "698        Government                    Canada       Paseo            High    \n",
              "699  Channel Partners  United States of America         VTT            High    \n",
              "\n",
              "     Units Sold   Manufacturing Price   Sale Price     Gross Sales   \\\n",
              "0     $1,618.50                 $3.00       $20.00      $32,370.00    \n",
              "1     $1,321.00                 $3.00       $20.00      $26,420.00    \n",
              "2     $2,178.00                 $3.00       $15.00      $32,670.00    \n",
              "3       $888.00                 $3.00       $15.00      $13,320.00    \n",
              "4     $2,470.00                 $3.00       $15.00      $37,050.00    \n",
              "..           ...                   ...          ...             ...   \n",
              "695   $2,475.00               $260.00      $300.00    $7,42,500.00    \n",
              "696     $546.00               $260.00      $300.00    $1,63,800.00    \n",
              "697   $1,368.00                 $5.00        $7.00       $9,576.00    \n",
              "698     $723.00                $10.00        $7.00       $5,061.00    \n",
              "699   $1,806.00               $250.00       $12.00      $21,672.00    \n",
              "\n",
              "         Discounts           Sales            COGS        Profit         Date  \\\n",
              "0             $-        $32,370.00      $16,185.00    $16,185.00   01/01/2014   \n",
              "1             $-        $26,420.00      $13,210.00    $13,210.00   01/01/2014   \n",
              "2             $-        $32,670.00      $21,780.00    $10,890.00   01/06/2014   \n",
              "3             $-        $13,320.00       $8,880.00     $4,440.00   01/06/2014   \n",
              "4             $-        $37,050.00      $24,700.00    $12,350.00   01/06/2014   \n",
              "..              ...             ...             ...           ...         ...   \n",
              "695   $1,11,375.00    $6,31,125.00    $6,18,750.00    $12,375.00   01/03/2014   \n",
              "696     $24,570.00    $1,39,230.00    $1,36,500.00     $2,730.00   01/10/2014   \n",
              "697      $1,436.40       $8,139.60       $6,840.00     $1,299.60   01/02/2014   \n",
              "698        $759.15       $4,301.85       $3,615.00       $686.85   01/04/2014   \n",
              "699      $3,250.80      $18,421.20       $5,418.00    $13,003.20   01/05/2014   \n",
              "\n",
              "     Month Number  Month Name   Year  \n",
              "0               1     January   2014  \n",
              "1               1     January   2014  \n",
              "2               6        June   2014  \n",
              "3               6        June   2014  \n",
              "4               6        June   2014  \n",
              "..            ...          ...   ...  \n",
              "695             3       March   2014  \n",
              "696            10     October   2014  \n",
              "697             2    February   2014  \n",
              "698             4       April   2014  \n",
              "699             5         May   2014  \n",
              "\n",
              "[700 rows x 16 columns]"
            ]
          },
          "execution_count": 35,
          "metadata": {},
          "output_type": "execute_result"
        }
      ],
      "source": [
        "#Load file data\n",
        "\n",
        "data = pd.read_csv('https://raw.githubusercontent.com/FTDS-learning-materials/phase-0/main/src/Financials.csv', delimiter=\",\")\n",
        "\n",
        "# Menampilkan keseluruhan data dalam tabel\n",
        "data\n",
        "\n",
        "# Ini untuk memberikan gambaran awal mengenai bentuk data dan nilai-nilai yang ada ditiap kolom (ada 16 kolom dan 700 baris)\n"
      ]
    },
    {
      "cell_type": "code",
      "execution_count": 36,
      "metadata": {
        "colab": {
          "base_uri": "https://localhost:8080/",
          "height": 243
        },
        "id": "naV3AA1WWV2a",
        "outputId": "a2529fee-6fc8-4626-8609-f343e7b12d6e"
      },
      "outputs": [
        {
          "data": {
            "text/html": [
              "<div>\n",
              "<style scoped>\n",
              "    .dataframe tbody tr th:only-of-type {\n",
              "        vertical-align: middle;\n",
              "    }\n",
              "\n",
              "    .dataframe tbody tr th {\n",
              "        vertical-align: top;\n",
              "    }\n",
              "\n",
              "    .dataframe thead th {\n",
              "        text-align: right;\n",
              "    }\n",
              "</style>\n",
              "<table border=\"1\" class=\"dataframe\">\n",
              "  <thead>\n",
              "    <tr style=\"text-align: right;\">\n",
              "      <th></th>\n",
              "      <th>Segment</th>\n",
              "      <th>Country</th>\n",
              "      <th>Product</th>\n",
              "      <th>Discount Band</th>\n",
              "      <th>Units Sold</th>\n",
              "      <th>Manufacturing Price</th>\n",
              "      <th>Sale Price</th>\n",
              "      <th>Gross Sales</th>\n",
              "      <th>Discounts</th>\n",
              "      <th>Sales</th>\n",
              "      <th>COGS</th>\n",
              "      <th>Profit</th>\n",
              "      <th>Date</th>\n",
              "      <th>Month Number</th>\n",
              "      <th>Month Name</th>\n",
              "      <th>Year</th>\n",
              "    </tr>\n",
              "  </thead>\n",
              "  <tbody>\n",
              "    <tr>\n",
              "      <th>0</th>\n",
              "      <td>Government</td>\n",
              "      <td>Canada</td>\n",
              "      <td>Carretera</td>\n",
              "      <td>None</td>\n",
              "      <td>$1,618.50</td>\n",
              "      <td>$3.00</td>\n",
              "      <td>$20.00</td>\n",
              "      <td>$32,370.00</td>\n",
              "      <td>$-</td>\n",
              "      <td>$32,370.00</td>\n",
              "      <td>$16,185.00</td>\n",
              "      <td>$16,185.00</td>\n",
              "      <td>01/01/2014</td>\n",
              "      <td>1</td>\n",
              "      <td>January</td>\n",
              "      <td>2014</td>\n",
              "    </tr>\n",
              "    <tr>\n",
              "      <th>1</th>\n",
              "      <td>Government</td>\n",
              "      <td>Germany</td>\n",
              "      <td>Carretera</td>\n",
              "      <td>None</td>\n",
              "      <td>$1,321.00</td>\n",
              "      <td>$3.00</td>\n",
              "      <td>$20.00</td>\n",
              "      <td>$26,420.00</td>\n",
              "      <td>$-</td>\n",
              "      <td>$26,420.00</td>\n",
              "      <td>$13,210.00</td>\n",
              "      <td>$13,210.00</td>\n",
              "      <td>01/01/2014</td>\n",
              "      <td>1</td>\n",
              "      <td>January</td>\n",
              "      <td>2014</td>\n",
              "    </tr>\n",
              "    <tr>\n",
              "      <th>2</th>\n",
              "      <td>Midmarket</td>\n",
              "      <td>France</td>\n",
              "      <td>Carretera</td>\n",
              "      <td>None</td>\n",
              "      <td>$2,178.00</td>\n",
              "      <td>$3.00</td>\n",
              "      <td>$15.00</td>\n",
              "      <td>$32,670.00</td>\n",
              "      <td>$-</td>\n",
              "      <td>$32,670.00</td>\n",
              "      <td>$21,780.00</td>\n",
              "      <td>$10,890.00</td>\n",
              "      <td>01/06/2014</td>\n",
              "      <td>6</td>\n",
              "      <td>June</td>\n",
              "      <td>2014</td>\n",
              "    </tr>\n",
              "    <tr>\n",
              "      <th>3</th>\n",
              "      <td>Midmarket</td>\n",
              "      <td>Germany</td>\n",
              "      <td>Carretera</td>\n",
              "      <td>None</td>\n",
              "      <td>$888.00</td>\n",
              "      <td>$3.00</td>\n",
              "      <td>$15.00</td>\n",
              "      <td>$13,320.00</td>\n",
              "      <td>$-</td>\n",
              "      <td>$13,320.00</td>\n",
              "      <td>$8,880.00</td>\n",
              "      <td>$4,440.00</td>\n",
              "      <td>01/06/2014</td>\n",
              "      <td>6</td>\n",
              "      <td>June</td>\n",
              "      <td>2014</td>\n",
              "    </tr>\n",
              "    <tr>\n",
              "      <th>4</th>\n",
              "      <td>Midmarket</td>\n",
              "      <td>Mexico</td>\n",
              "      <td>Carretera</td>\n",
              "      <td>None</td>\n",
              "      <td>$2,470.00</td>\n",
              "      <td>$3.00</td>\n",
              "      <td>$15.00</td>\n",
              "      <td>$37,050.00</td>\n",
              "      <td>$-</td>\n",
              "      <td>$37,050.00</td>\n",
              "      <td>$24,700.00</td>\n",
              "      <td>$12,350.00</td>\n",
              "      <td>01/06/2014</td>\n",
              "      <td>6</td>\n",
              "      <td>June</td>\n",
              "      <td>2014</td>\n",
              "    </tr>\n",
              "  </tbody>\n",
              "</table>\n",
              "</div>"
            ],
            "text/plain": [
              "      Segment  Country     Product   Discount Band   Units Sold   \\\n",
              "0  Government   Canada   Carretera            None    $1,618.50    \n",
              "1  Government  Germany   Carretera            None    $1,321.00    \n",
              "2   Midmarket   France   Carretera            None    $2,178.00    \n",
              "3   Midmarket  Germany   Carretera            None      $888.00    \n",
              "4   Midmarket   Mexico   Carretera            None    $2,470.00    \n",
              "\n",
              "   Manufacturing Price   Sale Price   Gross Sales   Discounts         Sales   \\\n",
              "0                $3.00       $20.00    $32,370.00        $-      $32,370.00    \n",
              "1                $3.00       $20.00    $26,420.00        $-      $26,420.00    \n",
              "2                $3.00       $15.00    $32,670.00        $-      $32,670.00    \n",
              "3                $3.00       $15.00    $13,320.00        $-      $13,320.00    \n",
              "4                $3.00       $15.00    $37,050.00        $-      $37,050.00    \n",
              "\n",
              "          COGS        Profit         Date  Month Number  Month Name   Year  \n",
              "0   $16,185.00    $16,185.00   01/01/2014             1     January   2014  \n",
              "1   $13,210.00    $13,210.00   01/01/2014             1     January   2014  \n",
              "2   $21,780.00    $10,890.00   01/06/2014             6        June   2014  \n",
              "3    $8,880.00     $4,440.00   01/06/2014             6        June   2014  \n",
              "4   $24,700.00    $12,350.00   01/06/2014             6        June   2014  "
            ]
          },
          "execution_count": 36,
          "metadata": {},
          "output_type": "execute_result"
        }
      ],
      "source": [
        "#Menampilkan data dari 5 baris pertama\n",
        "data.head()\n",
        "\n"
      ]
    },
    {
      "cell_type": "code",
      "execution_count": 37,
      "metadata": {
        "colab": {
          "base_uri": "https://localhost:8080/"
        },
        "id": "jLiQjQgEQ4Iw",
        "outputId": "6b29c619-39e3-476b-d161-63fd7d2fc945"
      },
      "outputs": [
        {
          "data": {
            "text/plain": [
              "Segment                  0\n",
              "Country                  0\n",
              " Product                 0\n",
              " Discount Band           0\n",
              " Units Sold              0\n",
              " Manufacturing Price     0\n",
              " Sale Price              0\n",
              " Gross Sales             0\n",
              " Discounts               0\n",
              "  Sales                  0\n",
              " COGS                    0\n",
              " Profit                  0\n",
              "Date                     0\n",
              "Month Number             0\n",
              " Month Name              0\n",
              "Year                     0\n",
              "dtype: int64"
            ]
          },
          "execution_count": 37,
          "metadata": {},
          "output_type": "execute_result"
        }
      ],
      "source": [
        "# Cek missing value\n",
        "data.isnull().sum()\n",
        "\n",
        "# Gunanya untuk mengetahui berapa nilai yang hilang di setiap kolom.\n"
      ]
    },
    {
      "cell_type": "code",
      "execution_count": 38,
      "metadata": {
        "colab": {
          "base_uri": "https://localhost:8080/"
        },
        "id": "WODxrIlHRCB6",
        "outputId": "ec99c5e7-b924-49b7-ab54-ec746e53ea03"
      },
      "outputs": [
        {
          "data": {
            "text/plain": [
              "0"
            ]
          },
          "execution_count": 38,
          "metadata": {},
          "output_type": "execute_result"
        }
      ],
      "source": [
        "# Cek diplikat baris\n",
        "data.duplicated().sum()\n",
        "\n",
        "# Gunanya untuk menghitung jumlah baris duplikat dalam dataset."
      ]
    },
    {
      "cell_type": "markdown",
      "metadata": {
        "id": "L8yageT_EXrI"
      },
      "source": [
        "B. Informasi Summary Data"
      ]
    },
    {
      "cell_type": "code",
      "execution_count": 39,
      "metadata": {
        "colab": {
          "base_uri": "https://localhost:8080/"
        },
        "id": "2OLlPr2EXDKB",
        "outputId": "8ee577e9-361e-4e23-bd88-f39bae318b41"
      },
      "outputs": [
        {
          "name": "stdout",
          "output_type": "stream",
          "text": [
            "<class 'pandas.core.frame.DataFrame'>\n",
            "RangeIndex: 700 entries, 0 to 699\n",
            "Data columns (total 16 columns):\n",
            " #   Column                 Non-Null Count  Dtype \n",
            "---  ------                 --------------  ----- \n",
            " 0   Segment                700 non-null    object\n",
            " 1   Country                700 non-null    object\n",
            " 2    Product               700 non-null    object\n",
            " 3    Discount Band         700 non-null    object\n",
            " 4    Units Sold            700 non-null    object\n",
            " 5    Manufacturing Price   700 non-null    object\n",
            " 6    Sale Price            700 non-null    object\n",
            " 7    Gross Sales           700 non-null    object\n",
            " 8    Discounts             700 non-null    object\n",
            " 9     Sales                700 non-null    object\n",
            " 10   COGS                  700 non-null    object\n",
            " 11   Profit                700 non-null    object\n",
            " 12  Date                   700 non-null    object\n",
            " 13  Month Number           700 non-null    int64 \n",
            " 14   Month Name            700 non-null    object\n",
            " 15  Year                   700 non-null    int64 \n",
            "dtypes: int64(2), object(14)\n",
            "memory usage: 87.6+ KB\n"
          ]
        }
      ],
      "source": [
        "#Informasi summary data\n",
        "data.info()\n",
        "\n",
        "# Untuk memberikan ringkasan tentang struktur DataFrame (jumlah kolom dan baris, tipe data di setiap kolom, dan jumlah nilai non-null di tiap kolom).\n"
      ]
    },
    {
      "cell_type": "code",
      "execution_count": 40,
      "metadata": {
        "colab": {
          "base_uri": "https://localhost:8080/",
          "height": 300
        },
        "id": "BBiRqUKqROc9",
        "outputId": "6f4c66cc-04dd-428a-e806-720684b01e80"
      },
      "outputs": [
        {
          "data": {
            "text/html": [
              "<div>\n",
              "<style scoped>\n",
              "    .dataframe tbody tr th:only-of-type {\n",
              "        vertical-align: middle;\n",
              "    }\n",
              "\n",
              "    .dataframe tbody tr th {\n",
              "        vertical-align: top;\n",
              "    }\n",
              "\n",
              "    .dataframe thead th {\n",
              "        text-align: right;\n",
              "    }\n",
              "</style>\n",
              "<table border=\"1\" class=\"dataframe\">\n",
              "  <thead>\n",
              "    <tr style=\"text-align: right;\">\n",
              "      <th></th>\n",
              "      <th>Month Number</th>\n",
              "      <th>Year</th>\n",
              "    </tr>\n",
              "  </thead>\n",
              "  <tbody>\n",
              "    <tr>\n",
              "      <th>count</th>\n",
              "      <td>700.000000</td>\n",
              "      <td>700.000000</td>\n",
              "    </tr>\n",
              "    <tr>\n",
              "      <th>mean</th>\n",
              "      <td>7.900000</td>\n",
              "      <td>2013.750000</td>\n",
              "    </tr>\n",
              "    <tr>\n",
              "      <th>std</th>\n",
              "      <td>3.377321</td>\n",
              "      <td>0.433322</td>\n",
              "    </tr>\n",
              "    <tr>\n",
              "      <th>min</th>\n",
              "      <td>1.000000</td>\n",
              "      <td>2013.000000</td>\n",
              "    </tr>\n",
              "    <tr>\n",
              "      <th>25%</th>\n",
              "      <td>5.750000</td>\n",
              "      <td>2013.750000</td>\n",
              "    </tr>\n",
              "    <tr>\n",
              "      <th>50%</th>\n",
              "      <td>9.000000</td>\n",
              "      <td>2014.000000</td>\n",
              "    </tr>\n",
              "    <tr>\n",
              "      <th>75%</th>\n",
              "      <td>10.250000</td>\n",
              "      <td>2014.000000</td>\n",
              "    </tr>\n",
              "    <tr>\n",
              "      <th>max</th>\n",
              "      <td>12.000000</td>\n",
              "      <td>2014.000000</td>\n",
              "    </tr>\n",
              "  </tbody>\n",
              "</table>\n",
              "</div>"
            ],
            "text/plain": [
              "       Month Number         Year\n",
              "count    700.000000   700.000000\n",
              "mean       7.900000  2013.750000\n",
              "std        3.377321     0.433322\n",
              "min        1.000000  2013.000000\n",
              "25%        5.750000  2013.750000\n",
              "50%        9.000000  2014.000000\n",
              "75%       10.250000  2014.000000\n",
              "max       12.000000  2014.000000"
            ]
          },
          "execution_count": 40,
          "metadata": {},
          "output_type": "execute_result"
        }
      ],
      "source": [
        "# Menampilkan summary statistics untuk kolom numeric\n",
        "data.describe()\n",
        "\n",
        "# Untuk menghasilkan statistik deskriptif utnuk kolom numeric, seperti count, mean, std, min, max, dll."
      ]
    },
    {
      "cell_type": "code",
      "execution_count": 41,
      "metadata": {
        "colab": {
          "base_uri": "https://localhost:8080/"
        },
        "id": "rxkeNP37DJy8",
        "outputId": "b1825e77-4ac0-4597-a8a1-642118463658"
      },
      "outputs": [
        {
          "data": {
            "text/plain": [
              "Segment                  0\n",
              "Country                  0\n",
              " Product                 0\n",
              " Discount Band           0\n",
              " Units Sold              0\n",
              " Manufacturing Price     0\n",
              " Sale Price              0\n",
              " Gross Sales             0\n",
              " Discounts               0\n",
              "  Sales                  0\n",
              " COGS                    0\n",
              " Profit                  0\n",
              "Date                     0\n",
              "Month Number             0\n",
              " Month Name              0\n",
              "Year                     0\n",
              "dtype: int64"
            ]
          },
          "execution_count": 41,
          "metadata": {},
          "output_type": "execute_result"
        }
      ],
      "source": [
        "data.isnull().sum()\n",
        "\n",
        "# Tidak ada missing value"
      ]
    },
    {
      "cell_type": "markdown",
      "metadata": {
        "id": "aT02F2_4EqSH"
      },
      "source": [
        "C. List Nama-Nama Kolom"
      ]
    },
    {
      "cell_type": "code",
      "execution_count": 42,
      "metadata": {
        "colab": {
          "base_uri": "https://localhost:8080/"
        },
        "id": "kxQhdAPtYn6b",
        "outputId": "2a509399-5dbf-416f-a73d-d27a6e4c2779"
      },
      "outputs": [
        {
          "data": {
            "text/plain": [
              "['Segment',\n",
              " 'Country',\n",
              " ' Product ',\n",
              " ' Discount Band ',\n",
              " ' Units Sold ',\n",
              " ' Manufacturing Price ',\n",
              " ' Sale Price ',\n",
              " ' Gross Sales ',\n",
              " ' Discounts ',\n",
              " '  Sales ',\n",
              " ' COGS ',\n",
              " ' Profit ',\n",
              " 'Date',\n",
              " 'Month Number',\n",
              " ' Month Name ',\n",
              " 'Year']"
            ]
          },
          "execution_count": 42,
          "metadata": {},
          "output_type": "execute_result"
        }
      ],
      "source": [
        "#Tampilan list of column names\n",
        "\n",
        "data.columns.tolist()\n",
        "\n",
        "#BERI PENJELASAN TEMUAN YANG DIDAPATKAN DAN LANGKAH SELANJUTNYA\n",
        "#PENJELASAN ADA DI WORD."
      ]
    },
    {
      "cell_type": "markdown",
      "metadata": {
        "id": "0PmALfK1hLQT"
      },
      "source": [
        "Temuan:\n",
        "- ada beberapa kolom yang memiliki spasi, seperti ' Product ' dan ' Discount Band '. Hal tersebut menyebabkan masalah saat melakukan query.\n",
        "- pada kolom 'unit sold' dan 'profit' ada yang nilainya negatif.\n",
        "- ada kolom yang seharusnya berisi data numerik tapi masih bertipe 'object'. Jadi data belum siap di analisis.\n",
        "\n",
        "\n",
        "Langkah selanjutnya:\n",
        "- mengubah nama kolom yang memiliki spasi menjadi tanpa spasi.\n",
        "- mengubah kolom yang seharusnya bertipe 'object' menjadi 'numeric' (float atau int).\n",
        "- menambahkan validasi data pada saat masukkan data ke tabel database.\n"
      ]
    },
    {
      "cell_type": "markdown",
      "metadata": {
        "id": "x6y2ncokFCLq"
      },
      "source": [
        "D. Tampilkan List Nilai Unik"
      ]
    },
    {
      "cell_type": "code",
      "execution_count": 43,
      "metadata": {
        "colab": {
          "base_uri": "https://localhost:8080/"
        },
        "id": "8yZfiUhsb51y",
        "outputId": "7797c9dd-c064-4121-f3c6-053268f2749c"
      },
      "outputs": [
        {
          "data": {
            "text/plain": [
              "Segment                    5\n",
              "Country                    5\n",
              " Product                   6\n",
              " Discount Band             4\n",
              " Units Sold              510\n",
              " Manufacturing Price       6\n",
              " Sale Price                7\n",
              " Gross Sales             550\n",
              " Discounts               515\n",
              "  Sales                  559\n",
              " COGS                    545\n",
              " Profit                  557\n",
              "Date                      16\n",
              "Month Number              12\n",
              " Month Name               12\n",
              "Year                       2\n",
              "dtype: int64"
            ]
          },
          "execution_count": 43,
          "metadata": {},
          "output_type": "execute_result"
        }
      ],
      "source": [
        "#Menampilkan data unik yang dimiliki\n",
        "data.nunique()"
      ]
    },
    {
      "cell_type": "code",
      "execution_count": 44,
      "metadata": {
        "colab": {
          "base_uri": "https://localhost:8080/"
        },
        "id": "vxu3j0ANYaGm",
        "outputId": "218b47e5-78f5-4e86-f646-11969e0fa53f"
      },
      "outputs": [
        {
          "name": "stdout",
          "output_type": "stream",
          "text": [
            "['Government' 'Midmarket' 'Channel Partners' 'Enterprise' 'Small Business']\n",
            "['Canada' 'Germany' 'France' 'Mexico' 'United States of America']\n",
            "[' Carretera ' ' Montana ' ' Paseo ' ' Velo ' ' VTT ' ' Amarilla ']\n",
            "[' None ' ' Low ' ' Medium ' ' High ']\n"
          ]
        }
      ],
      "source": [
        "#List unique value dari kolom `Segment`, `Country`, `Product`, `Discount Band`\n",
        "print(data['Segment'].unique())\n",
        "print(data['Country'].unique())\n",
        "print(data[' Product '].unique())\n",
        "print(data[' Discount Band '].unique())\n",
        "\n",
        "\n",
        "## berikan informasi apa yang dapat kamu ambil dari langkah ini."
      ]
    },
    {
      "cell_type": "markdown",
      "metadata": {
        "id": "D2fn6dXYkr6f"
      },
      "source": [
        "Notes:\n",
        "\n",
        "Informasi yang dapat diambil dalam langkah ini yaitu:\n",
        "\n",
        "- Nilai unik dari kolom 'segment' dapat melihat bagaimana data dikelompokkan berdasarkan segmen pasar seperti Government, Midmarket, Enterprise, Channel Partners, dan Small Business.\n",
        "- Nilai unik dari kolom 'Country' ini untuk memberi gambaran mengenai distribusi geografis dari data penjualan dan profit\n",
        "- Nilai unik dari 'product' ini untuk identifikasi berbagai produk yang ada dalam data.\n",
        "- Nilai unik dari 'discount band' menunjukkan kategori diskon yang ada seperti None, Low, Medium, dan High. Gunanya untuk menganalisi dampak diskon pada penjualan.\n",
        "\n"
      ]
    },
    {
      "cell_type": "markdown",
      "metadata": {
        "id": "_4Pvmsa6l6bn"
      },
      "source": [
        "Langkah yang akan dilakukan selanjutnya:\n",
        "\n",
        "- melakukan analisis lebih lanjut.\n",
        "- menyesuaikan data yang tidak sesuai dengan data cleaning."
      ]
    },
    {
      "cell_type": "markdown",
      "metadata": {
        "id": "6t5_gnBKGyZb"
      },
      "source": [
        "## Data Cleaning\n",
        "\n",
        "A. Manipulasi kolom meliputi penggantian nama kolom, penghapusan kolom, atau penambahan kolom"
      ]
    },
    {
      "cell_type": "code",
      "execution_count": 45,
      "metadata": {
        "colab": {
          "base_uri": "https://localhost:8080/"
        },
        "id": "QEY6p0EJM5dV",
        "outputId": "3764fdcd-8395-401d-e428-d802cd0ff82a"
      },
      "outputs": [
        {
          "data": {
            "text/plain": [
              "['Segmentasi',\n",
              " 'Negara',\n",
              " 'Produk',\n",
              " 'Discount_Band',\n",
              " 'Jumlah_Terjual',\n",
              " 'Manufacturing_Price',\n",
              " 'Sale_Price',\n",
              " 'Penjualan_Bersih',\n",
              " 'Diskon',\n",
              " 'Penjualan',\n",
              " 'Biaya_Pembuatan',\n",
              " 'Keuntungan',\n",
              " 'Tanggal',\n",
              " 'Month_Number',\n",
              " 'Month_Name',\n",
              " 'Tahun']"
            ]
          },
          "execution_count": 45,
          "metadata": {},
          "output_type": "execute_result"
        }
      ],
      "source": [
        "# 1. Manipulasi Kolom\n",
        "\n",
        "# 1. Hapus spasi esktra\n",
        "data.columns = data.columns.str.strip()\n",
        "\n",
        "# 2. Mengganti nama kolom\n",
        "data.rename(columns={\n",
        "    'Segment': 'Segmentasi',\n",
        "    'Country': 'Negara',\n",
        "    'Product': 'Produk',\n",
        "    'Discount Band': 'Discount_Band',\n",
        "    'Units Sold': 'Jumlah_Terjual',\n",
        "    'Manufacturing Price': 'Manufacturing_Price',\n",
        "    'Sale Price': 'Sale_Price',\n",
        "    'Gross Sales': 'Penjualan_Bersih',\n",
        "    'Discounts': 'Diskon',\n",
        "    'Sales': 'Penjualan',\n",
        "    'COGS': 'Biaya_Pembuatan',\n",
        "    'Profit': 'Keuntungan',\n",
        "    'Date': 'Tanggal',\n",
        "    'Month Number': 'Month_Number',\n",
        "    'Month Name': 'Month_Name',\n",
        "    'Year': 'Tahun'\n",
        "    }, inplace=True)\n",
        "\n",
        "data.columns.tolist()"
      ]
    },
    {
      "cell_type": "code",
      "execution_count": 31,
      "metadata": {
        "colab": {
          "base_uri": "https://localhost:8080/",
          "height": 226
        },
        "id": "J6KoSA84qGWV",
        "outputId": "f05c108e-bd25-446d-b35e-0753fbd644e3"
      },
      "outputs": [
        {
          "data": {
            "text/html": [
              "<div>\n",
              "<style scoped>\n",
              "    .dataframe tbody tr th:only-of-type {\n",
              "        vertical-align: middle;\n",
              "    }\n",
              "\n",
              "    .dataframe tbody tr th {\n",
              "        vertical-align: top;\n",
              "    }\n",
              "\n",
              "    .dataframe thead th {\n",
              "        text-align: right;\n",
              "    }\n",
              "</style>\n",
              "<table border=\"1\" class=\"dataframe\">\n",
              "  <thead>\n",
              "    <tr style=\"text-align: right;\">\n",
              "      <th></th>\n",
              "      <th>Segmentasi</th>\n",
              "      <th>Negara</th>\n",
              "      <th>Produk</th>\n",
              "      <th>Discount_Band</th>\n",
              "      <th>Jumlah_Terjual</th>\n",
              "      <th>Manufacturing_Price</th>\n",
              "      <th>Sale_Price</th>\n",
              "      <th>Penjualan_Bersih</th>\n",
              "      <th>Diskon</th>\n",
              "      <th>Penjualan</th>\n",
              "      <th>Biaya_Pembuatan</th>\n",
              "      <th>Keuntungan</th>\n",
              "      <th>Tanggal</th>\n",
              "      <th>Month_Number</th>\n",
              "      <th>Month_Name</th>\n",
              "      <th>Tahun</th>\n",
              "    </tr>\n",
              "  </thead>\n",
              "  <tbody>\n",
              "    <tr>\n",
              "      <th>0</th>\n",
              "      <td>Government</td>\n",
              "      <td>Canada</td>\n",
              "      <td>Carretera</td>\n",
              "      <td>None</td>\n",
              "      <td>$1,618.50</td>\n",
              "      <td>$3.00</td>\n",
              "      <td>$20.00</td>\n",
              "      <td>$32,370.00</td>\n",
              "      <td>$-</td>\n",
              "      <td>$32,370.00</td>\n",
              "      <td>$16,185.00</td>\n",
              "      <td>$16,185.00</td>\n",
              "      <td>01/01/2014</td>\n",
              "      <td>1</td>\n",
              "      <td>January</td>\n",
              "      <td>2014</td>\n",
              "    </tr>\n",
              "    <tr>\n",
              "      <th>1</th>\n",
              "      <td>Government</td>\n",
              "      <td>Germany</td>\n",
              "      <td>Carretera</td>\n",
              "      <td>None</td>\n",
              "      <td>$1,321.00</td>\n",
              "      <td>$3.00</td>\n",
              "      <td>$20.00</td>\n",
              "      <td>$26,420.00</td>\n",
              "      <td>$-</td>\n",
              "      <td>$26,420.00</td>\n",
              "      <td>$13,210.00</td>\n",
              "      <td>$13,210.00</td>\n",
              "      <td>01/01/2014</td>\n",
              "      <td>1</td>\n",
              "      <td>January</td>\n",
              "      <td>2014</td>\n",
              "    </tr>\n",
              "    <tr>\n",
              "      <th>2</th>\n",
              "      <td>Midmarket</td>\n",
              "      <td>France</td>\n",
              "      <td>Carretera</td>\n",
              "      <td>None</td>\n",
              "      <td>$2,178.00</td>\n",
              "      <td>$3.00</td>\n",
              "      <td>$15.00</td>\n",
              "      <td>$32,670.00</td>\n",
              "      <td>$-</td>\n",
              "      <td>$32,670.00</td>\n",
              "      <td>$21,780.00</td>\n",
              "      <td>$10,890.00</td>\n",
              "      <td>01/06/2014</td>\n",
              "      <td>6</td>\n",
              "      <td>June</td>\n",
              "      <td>2014</td>\n",
              "    </tr>\n",
              "    <tr>\n",
              "      <th>3</th>\n",
              "      <td>Midmarket</td>\n",
              "      <td>Germany</td>\n",
              "      <td>Carretera</td>\n",
              "      <td>None</td>\n",
              "      <td>$888.00</td>\n",
              "      <td>$3.00</td>\n",
              "      <td>$15.00</td>\n",
              "      <td>$13,320.00</td>\n",
              "      <td>$-</td>\n",
              "      <td>$13,320.00</td>\n",
              "      <td>$8,880.00</td>\n",
              "      <td>$4,440.00</td>\n",
              "      <td>01/06/2014</td>\n",
              "      <td>6</td>\n",
              "      <td>June</td>\n",
              "      <td>2014</td>\n",
              "    </tr>\n",
              "    <tr>\n",
              "      <th>4</th>\n",
              "      <td>Midmarket</td>\n",
              "      <td>Mexico</td>\n",
              "      <td>Carretera</td>\n",
              "      <td>None</td>\n",
              "      <td>$2,470.00</td>\n",
              "      <td>$3.00</td>\n",
              "      <td>$15.00</td>\n",
              "      <td>$37,050.00</td>\n",
              "      <td>$-</td>\n",
              "      <td>$37,050.00</td>\n",
              "      <td>$24,700.00</td>\n",
              "      <td>$12,350.00</td>\n",
              "      <td>01/06/2014</td>\n",
              "      <td>6</td>\n",
              "      <td>June</td>\n",
              "      <td>2014</td>\n",
              "    </tr>\n",
              "  </tbody>\n",
              "</table>\n",
              "</div>"
            ],
            "text/plain": [
              "   Segmentasi   Negara       Produk Discount_Band Jumlah_Terjual  \\\n",
              "0  Government   Canada   Carretera          None      $1,618.50    \n",
              "1  Government  Germany   Carretera          None      $1,321.00    \n",
              "2   Midmarket   France   Carretera          None      $2,178.00    \n",
              "3   Midmarket  Germany   Carretera          None        $888.00    \n",
              "4   Midmarket   Mexico   Carretera          None      $2,470.00    \n",
              "\n",
              "  Manufacturing_Price Sale_Price Penjualan_Bersih  Diskon     Penjualan  \\\n",
              "0              $3.00     $20.00       $32,370.00    $-      $32,370.00    \n",
              "1              $3.00     $20.00       $26,420.00    $-      $26,420.00    \n",
              "2              $3.00     $15.00       $32,670.00    $-      $32,670.00    \n",
              "3              $3.00     $15.00       $13,320.00    $-      $13,320.00    \n",
              "4              $3.00     $15.00       $37,050.00    $-      $37,050.00    \n",
              "\n",
              "  Biaya_Pembuatan    Keuntungan     Tanggal  Month_Number Month_Name  Tahun  \n",
              "0     $16,185.00    $16,185.00   01/01/2014             1   January    2014  \n",
              "1     $13,210.00    $13,210.00   01/01/2014             1   January    2014  \n",
              "2     $21,780.00    $10,890.00   01/06/2014             6      June    2014  \n",
              "3      $8,880.00     $4,440.00   01/06/2014             6      June    2014  \n",
              "4     $24,700.00    $12,350.00   01/06/2014             6      June    2014  "
            ]
          },
          "execution_count": 31,
          "metadata": {},
          "output_type": "execute_result"
        }
      ],
      "source": [
        "data.head()\n",
        "\n",
        "# Output setelah nama kolom diganti"
      ]
    },
    {
      "cell_type": "markdown",
      "metadata": {
        "id": "sGHRWSUu4pFC"
      },
      "source": [
        "\n",
        "\n",
        "\n",
        "\n",
        "B. Penggantian tipe data yang sesuai dengan seharusnya"
      ]
    },
    {
      "cell_type": "markdown",
      "metadata": {
        "id": "FFL5cdp74mef"
      },
      "source": [
        "- Cari tahu kolom yang harus dibersihkan (yang mengandung nilai numeric tapi formatnya string).\n",
        "- Pembersihan dan konversi kolom dengan menghapus simbol mata uang dan tanda kurunf serta convert kolom bertipe data numeric ('float' atau 'int')"
      ]
    },
    {
      "cell_type": "code",
      "execution_count": 46,
      "metadata": {
        "id": "U_T2Lrjy4utH"
      },
      "outputs": [],
      "source": [
        "# Ganti tipe data\n",
        "\n",
        "# Daftar kolom yang akan dikonversi\n",
        "convert_columns = ['Jumlah_Terjual', 'Manufacturing_Price', 'Sale_Price', 'Penjualan_Bersih',\n",
        "                   'Diskon', 'Penjualan', 'Biaya_Pembuatan', 'Keuntungan']\n",
        "\n",
        "# Membersihkan data dalam kolom\n",
        "def clean_columns(column):\n",
        "    column = column.str.replace(r'[\\$,]', '', regex=True)  # Menghilangkan simbol mata uang\n",
        "    column = column.str.replace(r'\\((.*?)\\)', r'-\\1', regex=True)\n",
        "    column = column.str.replace(',', '', regex=True)      # Menghilangkan tanda koma \n",
        "    column = column.str.strip()                           # Menghilangkan spasi ekstra\n",
        "    return pd.to_numeric(column, errors='coerce')         # Konversi ke tipe data numerik\n",
        "\n",
        "\n",
        "# Membersihkan dan mengkonversi kolom\n",
        "for column in convert_columns:\n",
        "    data[column] = clean_columns(data[column])\n"
      ]
    },
    {
      "cell_type": "code",
      "execution_count": 47,
      "metadata": {
        "colab": {
          "base_uri": "https://localhost:8080/",
          "height": 226
        },
        "id": "aJrhWtwL438M",
        "outputId": "53592540-58c3-4f41-cfc1-1d788c7d2ed5"
      },
      "outputs": [
        {
          "data": {
            "text/html": [
              "<div>\n",
              "<style scoped>\n",
              "    .dataframe tbody tr th:only-of-type {\n",
              "        vertical-align: middle;\n",
              "    }\n",
              "\n",
              "    .dataframe tbody tr th {\n",
              "        vertical-align: top;\n",
              "    }\n",
              "\n",
              "    .dataframe thead th {\n",
              "        text-align: right;\n",
              "    }\n",
              "</style>\n",
              "<table border=\"1\" class=\"dataframe\">\n",
              "  <thead>\n",
              "    <tr style=\"text-align: right;\">\n",
              "      <th></th>\n",
              "      <th>Segmentasi</th>\n",
              "      <th>Negara</th>\n",
              "      <th>Produk</th>\n",
              "      <th>Discount_Band</th>\n",
              "      <th>Jumlah_Terjual</th>\n",
              "      <th>Manufacturing_Price</th>\n",
              "      <th>Sale_Price</th>\n",
              "      <th>Penjualan_Bersih</th>\n",
              "      <th>Diskon</th>\n",
              "      <th>Penjualan</th>\n",
              "      <th>Biaya_Pembuatan</th>\n",
              "      <th>Keuntungan</th>\n",
              "      <th>Tanggal</th>\n",
              "      <th>Month_Number</th>\n",
              "      <th>Month_Name</th>\n",
              "      <th>Tahun</th>\n",
              "    </tr>\n",
              "  </thead>\n",
              "  <tbody>\n",
              "    <tr>\n",
              "      <th>0</th>\n",
              "      <td>Government</td>\n",
              "      <td>Canada</td>\n",
              "      <td>Carretera</td>\n",
              "      <td>None</td>\n",
              "      <td>1618.5</td>\n",
              "      <td>3.0</td>\n",
              "      <td>20.0</td>\n",
              "      <td>32370.0</td>\n",
              "      <td>NaN</td>\n",
              "      <td>32370.0</td>\n",
              "      <td>16185.0</td>\n",
              "      <td>16185.0</td>\n",
              "      <td>01/01/2014</td>\n",
              "      <td>1</td>\n",
              "      <td>January</td>\n",
              "      <td>2014</td>\n",
              "    </tr>\n",
              "    <tr>\n",
              "      <th>1</th>\n",
              "      <td>Government</td>\n",
              "      <td>Germany</td>\n",
              "      <td>Carretera</td>\n",
              "      <td>None</td>\n",
              "      <td>1321.0</td>\n",
              "      <td>3.0</td>\n",
              "      <td>20.0</td>\n",
              "      <td>26420.0</td>\n",
              "      <td>NaN</td>\n",
              "      <td>26420.0</td>\n",
              "      <td>13210.0</td>\n",
              "      <td>13210.0</td>\n",
              "      <td>01/01/2014</td>\n",
              "      <td>1</td>\n",
              "      <td>January</td>\n",
              "      <td>2014</td>\n",
              "    </tr>\n",
              "    <tr>\n",
              "      <th>2</th>\n",
              "      <td>Midmarket</td>\n",
              "      <td>France</td>\n",
              "      <td>Carretera</td>\n",
              "      <td>None</td>\n",
              "      <td>2178.0</td>\n",
              "      <td>3.0</td>\n",
              "      <td>15.0</td>\n",
              "      <td>32670.0</td>\n",
              "      <td>NaN</td>\n",
              "      <td>32670.0</td>\n",
              "      <td>21780.0</td>\n",
              "      <td>10890.0</td>\n",
              "      <td>01/06/2014</td>\n",
              "      <td>6</td>\n",
              "      <td>June</td>\n",
              "      <td>2014</td>\n",
              "    </tr>\n",
              "    <tr>\n",
              "      <th>3</th>\n",
              "      <td>Midmarket</td>\n",
              "      <td>Germany</td>\n",
              "      <td>Carretera</td>\n",
              "      <td>None</td>\n",
              "      <td>888.0</td>\n",
              "      <td>3.0</td>\n",
              "      <td>15.0</td>\n",
              "      <td>13320.0</td>\n",
              "      <td>NaN</td>\n",
              "      <td>13320.0</td>\n",
              "      <td>8880.0</td>\n",
              "      <td>4440.0</td>\n",
              "      <td>01/06/2014</td>\n",
              "      <td>6</td>\n",
              "      <td>June</td>\n",
              "      <td>2014</td>\n",
              "    </tr>\n",
              "    <tr>\n",
              "      <th>4</th>\n",
              "      <td>Midmarket</td>\n",
              "      <td>Mexico</td>\n",
              "      <td>Carretera</td>\n",
              "      <td>None</td>\n",
              "      <td>2470.0</td>\n",
              "      <td>3.0</td>\n",
              "      <td>15.0</td>\n",
              "      <td>37050.0</td>\n",
              "      <td>NaN</td>\n",
              "      <td>37050.0</td>\n",
              "      <td>24700.0</td>\n",
              "      <td>12350.0</td>\n",
              "      <td>01/06/2014</td>\n",
              "      <td>6</td>\n",
              "      <td>June</td>\n",
              "      <td>2014</td>\n",
              "    </tr>\n",
              "  </tbody>\n",
              "</table>\n",
              "</div>"
            ],
            "text/plain": [
              "   Segmentasi   Negara       Produk Discount_Band  Jumlah_Terjual  \\\n",
              "0  Government   Canada   Carretera          None           1618.5   \n",
              "1  Government  Germany   Carretera          None           1321.0   \n",
              "2   Midmarket   France   Carretera          None           2178.0   \n",
              "3   Midmarket  Germany   Carretera          None            888.0   \n",
              "4   Midmarket   Mexico   Carretera          None           2470.0   \n",
              "\n",
              "   Manufacturing_Price  Sale_Price  Penjualan_Bersih  Diskon  Penjualan  \\\n",
              "0                  3.0        20.0           32370.0     NaN    32370.0   \n",
              "1                  3.0        20.0           26420.0     NaN    26420.0   \n",
              "2                  3.0        15.0           32670.0     NaN    32670.0   \n",
              "3                  3.0        15.0           13320.0     NaN    13320.0   \n",
              "4                  3.0        15.0           37050.0     NaN    37050.0   \n",
              "\n",
              "   Biaya_Pembuatan  Keuntungan     Tanggal  Month_Number Month_Name  Tahun  \n",
              "0          16185.0     16185.0  01/01/2014             1   January    2014  \n",
              "1          13210.0     13210.0  01/01/2014             1   January    2014  \n",
              "2          21780.0     10890.0  01/06/2014             6      June    2014  \n",
              "3           8880.0      4440.0  01/06/2014             6      June    2014  \n",
              "4          24700.0     12350.0  01/06/2014             6      June    2014  "
            ]
          },
          "execution_count": 47,
          "metadata": {},
          "output_type": "execute_result"
        }
      ],
      "source": [
        "data.head()"
      ]
    },
    {
      "cell_type": "markdown",
      "metadata": {
        "id": "TetNGFu16Bg-"
      },
      "source": [
        "C. Handling Missing Value\n"
      ]
    },
    {
      "cell_type": "code",
      "execution_count": 48,
      "metadata": {
        "id": "lSg79kaa5-hK"
      },
      "outputs": [],
      "source": [
        "# Imputasi nilai NaN dengan angka nol\n",
        "data.fillna(0, inplace=True)"
      ]
    },
    {
      "cell_type": "code",
      "execution_count": 49,
      "metadata": {
        "colab": {
          "base_uri": "https://localhost:8080/"
        },
        "id": "W3CYYp8n6uOl",
        "outputId": "e1bd262b-3de8-4c62-8bca-6bcd1acb65ed"
      },
      "outputs": [
        {
          "name": "stdout",
          "output_type": "stream",
          "text": [
            "<class 'pandas.core.frame.DataFrame'>\n",
            "RangeIndex: 700 entries, 0 to 699\n",
            "Data columns (total 16 columns):\n",
            " #   Column               Non-Null Count  Dtype  \n",
            "---  ------               --------------  -----  \n",
            " 0   Segmentasi           700 non-null    object \n",
            " 1   Negara               700 non-null    object \n",
            " 2   Produk               700 non-null    object \n",
            " 3   Discount_Band        700 non-null    object \n",
            " 4   Jumlah_Terjual       700 non-null    float64\n",
            " 5   Manufacturing_Price  700 non-null    float64\n",
            " 6   Sale_Price           700 non-null    float64\n",
            " 7   Penjualan_Bersih     700 non-null    float64\n",
            " 8   Diskon               700 non-null    float64\n",
            " 9   Penjualan            700 non-null    float64\n",
            " 10  Biaya_Pembuatan      700 non-null    float64\n",
            " 11  Keuntungan           700 non-null    float64\n",
            " 12  Tanggal              700 non-null    object \n",
            " 13  Month_Number         700 non-null    int64  \n",
            " 14  Month_Name           700 non-null    object \n",
            " 15  Tahun                700 non-null    int64  \n",
            "dtypes: float64(8), int64(2), object(6)\n",
            "memory usage: 87.6+ KB\n"
          ]
        }
      ],
      "source": [
        "data.info()\n",
        "\n",
        "# Sudah tidak ada missing value"
      ]
    },
    {
      "cell_type": "markdown",
      "metadata": {
        "id": "lDlUZPvI6aLM"
      },
      "source": [
        "## Data Normalization\n",
        "\n",
        "Normalisasi bertujuan untuk meningkatkan integritas data. Proses normalisai ini dengan memecah/breakdown tabel besar menjadi tabel-tabel yang lebih kecil dan dihubungkan dengan relasi. \n",
        "\n",
        "Tahap Normalisasi hingga 3NF:\n",
        "- 1NF = tiap kolom berisi nilai yang tidak terpecah dan barisnya unik.\n",
        "- 2NF = harus memenuhi 1NF dan kolom non-PK bergantung pada Primary key.\n",
        "- 3NF = harus memnuhi 2NF dan tidak boleh bergantung pada kolom non-PK lain. \n",
        "\n",
        "A. Lakukan normalisasi data yang sudah diolah sebelumnya sampai dengan 3NF."
      ]
    },
    {
      "cell_type": "markdown",
      "metadata": {
        "id": "juHEVEd28jl3"
      },
      "source": [
        "Langkah Normalisasi\n",
        "\n",
        "1. Tabel Segments:\n",
        "\n",
        "    | Segment_ID* | Segment |\n",
        "\n",
        "2. Tabel Country:\n",
        "\n",
        "    | Country_ID* | Country |\n",
        "\n",
        "3. Tabel Product:\n",
        "\n",
        "    | Product_ID* | Product |\n",
        "\n",
        "4. Tabel Time:\n",
        "\n",
        "    | Time_ID* | Date | Month_Number | Month_Name | Year |\n",
        "\n",
        "5. Tabel Sales (Tabel Utama):\n",
        "\n",
        "    | Sale_ID | Segment_ID | Country_ID | Product_ID | Time_ID | Discount_Band_ID | Units_Sold | Manufacturing_Price | Sale_Price | Gross_Sales | Discounts | Sales | COGS | Profit | \n",
        "\n",
        "\n",
        "\n",
        "notes : * => primary key\n",
        "       \n",
        "\n"
      ]
    },
    {
      "cell_type": "code",
      "execution_count": 50,
      "metadata": {},
      "outputs": [
        {
          "name": "stdout",
          "output_type": "stream",
          "text": [
            "Index(['Segmentasi', 'Negara', 'Produk', 'Discount_Band', 'Jumlah_Terjual',\n",
            "       'Manufacturing_Price', 'Sale_Price', 'Penjualan_Bersih', 'Diskon',\n",
            "       'Penjualan', 'Biaya_Pembuatan', 'Keuntungan', 'Tanggal', 'Month_Number',\n",
            "       'Month_Name', 'Tahun'],\n",
            "      dtype='object')\n"
          ]
        }
      ],
      "source": [
        "\n",
        "#print kolom\n",
        "print(data.columns)\n",
        "\n",
        "#Rename kolom\n",
        "data.columns = ['Segment', 'Country', 'Product', 'Discount_Band', 'Units_Sold', \n",
        "                'Manufacturing_Price', 'Sale_Price', 'Gross_Sales', 'Discounts', \n",
        "                'Sales', 'COGS', 'Profit', 'Date', 'Month_Number', \n",
        "                'Month_Name', 'Year']"
      ]
    },
    {
      "cell_type": "markdown",
      "metadata": {},
      "source": [
        "1. Tabel Segment"
      ]
    },
    {
      "cell_type": "code",
      "execution_count": 51,
      "metadata": {},
      "outputs": [],
      "source": [
        "# Create Segment table\n",
        "segment = data[['Segment']].drop_duplicates().reset_index(drop=True)\n",
        "segment['Segment_ID'] = segment.index + 1"
      ]
    },
    {
      "cell_type": "markdown",
      "metadata": {},
      "source": [
        "2. Tabel Country"
      ]
    },
    {
      "cell_type": "code",
      "execution_count": 52,
      "metadata": {},
      "outputs": [],
      "source": [
        "# Create Country table\n",
        "country = data[['Country']].drop_duplicates().reset_index(drop=True)\n",
        "country['Country_ID'] = country.index + 1"
      ]
    },
    {
      "cell_type": "markdown",
      "metadata": {},
      "source": [
        "3. Tabel Product"
      ]
    },
    {
      "cell_type": "code",
      "execution_count": 53,
      "metadata": {},
      "outputs": [],
      "source": [
        "# Create Product table\n",
        "product = data[['Product']].drop_duplicates().reset_index(drop=True)\n",
        "product['Product_ID'] = product.index + 1"
      ]
    },
    {
      "cell_type": "markdown",
      "metadata": {},
      "source": [
        "4. Tabel Time"
      ]
    },
    {
      "cell_type": "code",
      "execution_count": 54,
      "metadata": {},
      "outputs": [],
      "source": [
        "# Create Time table\n",
        "time = data[['Date', 'Month_Number', 'Month_Name', 'Year']].drop_duplicates().reset_index(drop=True)\n",
        "time['Time_ID'] = time.index + 1"
      ]
    },
    {
      "cell_type": "markdown",
      "metadata": {},
      "source": [
        "5. Tabel Sales (Main Table)\n",
        "\n",
        "    Buat main table dan lakukan join untuk mendapatkan ID dari tabel lain."
      ]
    },
    {
      "cell_type": "code",
      "execution_count": 56,
      "metadata": {},
      "outputs": [],
      "source": [
        "# Merge to create Sales table\n",
        "sales = data.merge(segment, on='Segment') \\\n",
        "            .merge(country, on='Country') \\\n",
        "            .merge(product, on='Product') \\\n",
        "            .merge(time, on=['Date', 'Month_Number', 'Month_Name', 'Year'])\n",
        "\n",
        "# Select relevant columns for Sales table\n",
        "sales = sales[['Segment_ID', 'Country_ID', 'Product_ID', 'Time_ID', 'Discount_Band', \n",
        "               'Units_Sold', 'Manufacturing_Price', 'Sale_Price',\n",
        "               'Gross_Sales', 'Discounts', 'Sales', 'COGS', 'Profit']].reset_index(drop=True)\n",
        "\n",
        "# Add Sales_ID as the primary key\n",
        "sales['Sales_ID'] = sales.index + 1"
      ]
    },
    {
      "cell_type": "markdown",
      "metadata": {},
      "source": [
        "Simpan ke .CSV"
      ]
    },
    {
      "cell_type": "code",
      "execution_count": 57,
      "metadata": {},
      "outputs": [],
      "source": [
        "segment.to_csv('table_segment.csv', index=False)\n",
        "country.to_csv('table_country.csv', index=False)\n",
        "product.to_csv('table_product.csv', index=False)\n",
        "time.to_csv('table_time.csv', index=False)\n",
        "sales.to_csv('table_sales_main.csv', index=False)"
      ]
    },
    {
      "cell_type": "markdown",
      "metadata": {},
      "source": [
        "## Relational Database & SQL"
      ]
    },
    {
      "cell_type": "markdown",
      "metadata": {},
      "source": [
        "## Pengujian Database"
      ]
    },
    {
      "cell_type": "markdown",
      "metadata": {},
      "source": [
        "a. Tabel informasi total profit di tiap jenis segmentasi (without diskon)\n",
        "\n",
        "BEGIN;\n",
        "\n",
        "SELECT segment.segment, SUM(sales.profit) AS total_profit\n",
        "FROM sales\n",
        "JOIN segment ON sales.segment_id = segment.segment_id\n",
        "WHERE discount_band IS NOT NULL AND sales.discount_band != 'None'\n",
        "GROUP BY segment.segment\n",
        "ORDER BY total_profit DESC;\n",
        "\n",
        "COMMIT;\n",
        "\n",
        "\n",
        "\n",
        "b. Tabel informasi rangkuman statistik (Avg, Min, Max) dari Sales masing-masing Negara\n",
        "\n",
        "SELECT country.country, \n",
        "\tAVG(sales.sales) AS average_sales,\n",
        "\tMIN(sales.sales) AS min_sales,\n",
        "\tMAX(sales.sales) AS max_sales\n",
        "FROM sales\n",
        "JOIN country ON sales.country_id = country.country_id\n",
        "GROUP BY country.country;"
      ]
    },
    {
      "attachments": {
        "image-2.png": {
          "image/png": "[encoded data removed]"
        },
        "image.png": {
          "image/png": "[encoded data removed]"
        }
      },
      "cell_type": "markdown",
      "metadata": {},
      "source": [
        "Tabel tersedia dalam format .csv\n",
        "\n",
        "Tabel 5.a \n",
        "\n",
        "![image.png](attachment:image.png)\n",
        "\n",
        "\n",
        "Tabel 5.b\n",
        "\n",
        "![image-2.png](attachment:image-2.png)\n"
      ]
    }
  ],
  "metadata": {
    "colab": {
      "provenance": []
    },
    "kernelspec": {
      "display_name": "Python 3",
      "name": "python3"
    },
    "language_info": {
      "codemirror_mode": {
        "name": "ipython",
        "version": 3
      },
      "file_extension": ".py",
      "mimetype": "text/x-python",
      "name": "python",
      "nbconvert_exporter": "python",
      "pygments_lexer": "ipython3",
      "version": "3.11.7"
    }
  },
  "nbformat": 4,
  "nbformat_minor": 0
}
